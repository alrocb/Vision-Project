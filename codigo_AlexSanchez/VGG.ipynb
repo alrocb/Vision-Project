{
 "cells": [
  {
   "cell_type": "code",
   "execution_count": 76,
   "metadata": {},
   "outputs": [],
   "source": [
    "import torch\n",
    "from torch.utils.data import Dataset, DataLoader\n",
    "from torchvision import transforms\n",
    "import pandas as pd\n",
    "from PIL import Image\n",
    "from torch.utils.data import random_split\n",
    "import os\n",
    "import torch\n",
    "import torch.nn as nn\n",
    "from torchvision import models\n"
   ]
  },
  {
   "cell_type": "code",
   "execution_count": 77,
   "metadata": {},
   "outputs": [
    {
     "name": "stdout",
     "output_type": "stream",
     "text": [
      "cuda\n"
     ]
    }
   ],
   "source": [
    "\n",
    "device = torch.device(\"cuda\" if torch.cuda.is_available() else \"cpu\")\n",
    "print(device)"
   ]
  },
  {
   "cell_type": "code",
   "execution_count": 78,
   "metadata": {},
   "outputs": [],
   "source": [
    "\n",
    "class CustomDataset(Dataset):\n",
    "    \n",
    "    def __init__(self, image_patches_csv, images_dir, transform=None):\n",
    "        self.image_patches_df = pd.read_csv(image_patches_csv)\n",
    "        self.images_dir = images_dir\n",
    "        self.transform = transform\n",
    "\n",
    "        # Filter out invalid entries\n",
    "        self.valid_samples = []\n",
    "        \n",
    "        for index, row in self.image_patches_df.iterrows():\n",
    "            img_id = row['ID'].replace('.', '/') \n",
    "            img_path = os.path.join(self.images_dir, img_id + '.png')\n",
    "\n",
    "            # Check if the image exists and the 'Presence' is not 0\n",
    "            if os.path.exists(img_path) and row['Presence'] != 0:\n",
    "                label = row['Presence']\n",
    "                # Convert labels from -1/1 to 0/1 for CrossEntropyLoss\n",
    "                label = 0 if label == -1 else 1\n",
    "                self.valid_samples.append((img_path, label))                             \n",
    "        \n",
    "    def __len__(self):\n",
    "        return len(self.valid_samples)\n",
    "\n",
    "    def __getitem__(self, idx):\n",
    "        image_path, label = self.valid_samples[idx]\n",
    "        image = Image.open(image_path).convert(\"RGB\")\n",
    "        if self.transform:\n",
    "            image = self.transform(image)\n",
    "        \n",
    "        return image, label\n",
    "    \n",
    "    def __proba__(self):\n",
    "        return(self.valid_entries) \n"
   ]
  },
  {
   "cell_type": "code",
   "execution_count": 79,
   "metadata": {},
   "outputs": [
    {
     "name": "stdout",
     "output_type": "stream",
     "text": [
      "1254\n"
     ]
    }
   ],
   "source": [
    "image_patches_csv = \"C:/Users/alexx/OneDrive/Escriptori/window_metadata.csv\" \n",
    "image_patches_df = pd.read_csv(image_patches_csv)\n",
    "images_dir = \"C:/Users/alexx/OneDrive/Escriptori/AnnotatedPatches/AnnotatedPatches/\"\n",
    "valid_entries = []\n",
    "test_slze=219\n",
    "\n",
    "for index, row in image_patches_df.iterrows():\n",
    "    # Construct the image ID with directory and file extension\n",
    "    img_id = row['ID'].replace('.', '/') \n",
    "    img_path = os.path.join(images_dir, img_id + '.png')\n",
    "\n",
    "\n",
    "    # Check if the image exists and the 'Presence' is not 0\n",
    "    if os.path.exists(img_path) and row['Presence'] != 0:\n",
    "        valid_entries.append(img_path)\n",
    "\n",
    "\n",
    "print(len(valid_entries))\n",
    "\n",
    "# \"C:\\Users\\alexx\\OneDrive\\Escriptori\\AnnotatedPatches\\AnnotatedPatches\\B22-101_0\\00180.png\"                                 "
   ]
  },
  {
   "cell_type": "code",
   "execution_count": 80,
   "metadata": {},
   "outputs": [
    {
     "name": "stdout",
     "output_type": "stream",
     "text": [
      "True\n"
     ]
    }
   ],
   "source": [
    "a = os.path.exists('C:/Users/alexx/OneDrive/Escriptori/AnnotatedPatches/AnnotatedPatches/B22-101_0/00180.png')\n",
    "print(a)"
   ]
  },
  {
   "cell_type": "code",
   "execution_count": 81,
   "metadata": {},
   "outputs": [],
   "source": [
    "image_patches_csv = \"C:/Users/alexx/OneDrive/Escriptori/window_metadata.csv\" \n",
    "images_dir = \"C:/Users/alexx/OneDrive/Escriptori/AnnotatedPatches/AnnotatedPatches/\"\n",
    "transforms = transforms.Compose([transforms.RandomHorizontalFlip(), transforms.RandomRotation(15), transforms.Resize((224, 224)), transforms.ToTensor()])\n",
    "\n",
    "custom_dataset = CustomDataset(image_patches_csv=image_patches_csv, images_dir=images_dir, transform=transforms)\n",
    "\n"
   ]
  },
  {
   "cell_type": "code",
   "execution_count": 82,
   "metadata": {},
   "outputs": [],
   "source": [
    "# Dividing into Training and testing.\n",
    "\n",
    "train_size = int(0.8 * len(custom_dataset))\n",
    "test_size = len(custom_dataset) - train_size\n",
    "train_dataset, test_dataset = random_split(custom_dataset, [train_size, test_size])\n",
    "train_loader = DataLoader(train_dataset, batch_size=32, shuffle=True)\n",
    "test_loader = DataLoader(test_dataset, batch_size=32, shuffle=False)"
   ]
  },
  {
   "cell_type": "code",
   "execution_count": 83,
   "metadata": {},
   "outputs": [
    {
     "name": "stderr",
     "output_type": "stream",
     "text": [
      "c:\\Users\\alexx\\anaconda3\\envs\\DL\\lib\\site-packages\\torchvision\\models\\_utils.py:208: UserWarning: The parameter 'pretrained' is deprecated since 0.13 and may be removed in the future, please use 'weights' instead.\n",
      "  warnings.warn(\n",
      "c:\\Users\\alexx\\anaconda3\\envs\\DL\\lib\\site-packages\\torchvision\\models\\_utils.py:223: UserWarning: Arguments other than a weight enum or `None` for 'weights' are deprecated since 0.13 and may be removed in the future. The current behavior is equivalent to passing `weights=VGG16_Weights.IMAGENET1K_V1`. You can also use `weights=VGG16_Weights.DEFAULT` to get the most up-to-date weights.\n",
      "  warnings.warn(msg)\n"
     ]
    }
   ],
   "source": [
    "# Load a pretrained VGG16 model\n",
    "vgg16 = models.vgg16(pretrained=True)\n",
    "\n",
    "# Freezeing the features layers because we do not want to re-train them just use with the weights already learnt.\n",
    "for param in vgg16.features.parameters():\n",
    "    param.requires_grad = False\n",
    "\n",
    "\n",
    "# We remove last layer and create a new Linear layer that we want to train with our own features.\n",
    "num_features = vgg16.classifier[6].in_features # We want to know the numbr of features the model had initially to construct correctly our new layer.\n",
    "features = list(vgg16.classifier.children())[:-1] # Remove last layer\n",
    "features.extend([nn.Dropout(p=0.5), nn.Linear(num_features, 2)]) # Add our layer with 2 outputs, because we have two classes pylori (1) or no pylory(-1). Add also dropout\n",
    "vgg16.classifier = nn.Sequential(*features) # Replace the model classifier."
   ]
  },
  {
   "cell_type": "code",
   "execution_count": 84,
   "metadata": {},
   "outputs": [],
   "source": [
    "\n",
    "\n",
    "criterion = nn.CrossEntropyLoss()\n",
    "optimizer = torch.optim.Adam(vgg16.classifier.parameters(), lr=0.001)\n",
    "\n",
    "# Function to train the model\n",
    "def train_model(model, criterion, optimizer, train_loader, num_epochs = 12):\n",
    "    loss_history = []\n",
    "    for epoch in range(num_epochs):\n",
    "        model.train()  \n",
    "        \n",
    "        running_loss = 0.0\n",
    "        running_corrects = 0\n",
    "\n",
    "        for inputs, labels in train_loader:\n",
    "            inputs = inputs.to(device)\n",
    "            labels = labels.to(device)\n",
    "\n",
    "            optimizer.zero_grad()\n",
    "\n",
    "            outputs = model(inputs)\n",
    "            loss = criterion(outputs, labels)\n",
    "\n",
    "            loss.backward()\n",
    "            optimizer.step()\n",
    "\n",
    "            running_loss += loss.item() * inputs.size(0)\n",
    "            _, preds = torch.max(outputs, 1)\n",
    "            running_corrects += torch.sum(preds == labels.data)\n",
    "\n",
    "        epoch_loss = running_loss / len(train_loader.dataset)\n",
    "        loss_history.append(epoch_loss)\n",
    "        epoch_acc = running_corrects.double() / len(train_loader.dataset)\n",
    "\n",
    "        print(f'Epoch {epoch}/{num_epochs - 1} Loss: {epoch_loss:.4f} Acc: {epoch_acc:.4f}')\n",
    "\n",
    "    return model, loss_history\n"
   ]
  },
  {
   "cell_type": "code",
   "execution_count": 85,
   "metadata": {},
   "outputs": [
    {
     "name": "stdout",
     "output_type": "stream",
     "text": [
      "Epoch 0/10 Loss: 0.9821 Acc: 0.7886\n",
      "Epoch 1/10 Loss: 0.6209 Acc: 0.8335\n",
      "Epoch 2/10 Loss: 0.5082 Acc: 0.8485\n",
      "Epoch 3/10 Loss: 0.4081 Acc: 0.8634\n",
      "Epoch 4/10 Loss: 0.4671 Acc: 0.8644\n",
      "Epoch 5/10 Loss: 0.4738 Acc: 0.8624\n",
      "Epoch 6/10 Loss: 0.5208 Acc: 0.8514\n",
      "Epoch 7/10 Loss: 0.3740 Acc: 0.8843\n",
      "Epoch 8/10 Loss: 0.4324 Acc: 0.8843\n",
      "Epoch 9/10 Loss: 0.3457 Acc: 0.8983\n",
      "Epoch 10/10 Loss: 0.2898 Acc: 0.9123\n"
     ]
    }
   ],
   "source": [
    "\n",
    "vgg16 = vgg16.to(device)\n",
    "\n",
    "# Train the model\n",
    "vgg16, loss_history = train_model(vgg16, criterion, optimizer, train_loader, num_epochs=11)\n",
    "\n"
   ]
  },
  {
   "cell_type": "code",
   "execution_count": 86,
   "metadata": {},
   "outputs": [
    {
     "data": {
      "image/png": "[encoded data removed]",
      "text/plain": [
       "<Figure size 640x480 with 1 Axes>"
      ]
     },
     "metadata": {},
     "output_type": "display_data"
    }
   ],
   "source": [
    "import matplotlib.pyplot as plt\n",
    "plt.plot(loss_history, label='Training Loss')\n",
    "plt.xlabel('Epochs')\n",
    "plt.ylabel('Loss')\n",
    "plt.legend()\n",
    "plt.show()"
   ]
  },
  {
   "cell_type": "code",
   "execution_count": 87,
   "metadata": {},
   "outputs": [],
   "source": [
    "from sklearn.metrics import confusion_matrix\n",
    "import numpy as np\n",
    "\n",
    "# Function to get predictions and true labels\n",
    "def get_all_preds_labels(model, data_loader):\n",
    "    all_preds = torch.tensor([])\n",
    "    all_labels = torch.tensor([])\n",
    "    \n",
    "    with torch.no_grad():\n",
    "        for inputs, labels in data_loader:\n",
    "            inputs, labels = inputs.to(device), labels.to(device)\n",
    "            outputs = model(inputs)\n",
    "            _, preds = torch.max(outputs, 1)\n",
    "            \n",
    "            all_preds = torch.cat((all_preds, preds.cpu()), dim=0)\n",
    "            all_labels = torch.cat((all_labels, labels.cpu()), dim=0)\n",
    "            \n",
    "    return all_preds.numpy(), all_labels.numpy()\n",
    "\n",
    "preds, labels = get_all_preds_labels(vgg16, test_loader)\n",
    "\n",
    "conf_matrix = confusion_matrix(labels, preds)\n"
   ]
  },
  {
   "cell_type": "code",
   "execution_count": 88,
   "metadata": {},
   "outputs": [
    {
     "data": {
      "image/png": "[encoded data removed]",
      "text/plain": [
       "<Figure size 640x480 with 2 Axes>"
      ]
     },
     "metadata": {},
     "output_type": "display_data"
    }
   ],
   "source": [
    "import seaborn as sns\n",
    "\n",
    "sns.heatmap(conf_matrix, annot=True, fmt='g', cmap='YlOrRd')\n",
    "plt.xlabel('Predicted labels')\n",
    "plt.ylabel('True labels')\n",
    "plt.title('Confusion Matrix')\n",
    "plt.show()\n"
   ]
  },
  {
   "cell_type": "code",
   "execution_count": null,
   "metadata": {},
   "outputs": [],
   "source": []
  }
 ],
 "metadata": {
  "kernelspec": {
   "display_name": "Python 3 (ipykernel)",
   "language": "python",
   "name": "python3"
  },
  "language_info": {
   "codemirror_mode": {
    "name": "ipython",
    "version": 3
   },
   "file_extension": ".py",
   "mimetype": "text/x-python",
   "name": "python",
   "nbconvert_exporter": "python",
   "pygments_lexer": "ipython3",
   "version": "3.10.11"
  }
 },
 "nbformat": 4,
 "nbformat_minor": 2
}
